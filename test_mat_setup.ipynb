{
 "cells": [
  {
   "cell_type": "code",
   "execution_count": 1,
   "metadata": {},
   "outputs": [],
   "source": [
    "import os\n",
    "import numpy as np \n",
    "import damask"
   ]
  },
  {
   "cell_type": "code",
   "execution_count": 2,
   "metadata": {},
   "outputs": [],
   "source": [
    "%config Completer.use_jedi = False"
   ]
  },
  {
   "cell_type": "code",
   "execution_count": 3,
   "metadata": {},
   "outputs": [],
   "source": [
    "# some pre-requisites, after `source env/DAMASK.sh`\n",
    "damask_root = %env DAMASK_ROOT"
   ]
  },
  {
   "cell_type": "code",
   "execution_count": 4,
   "metadata": {},
   "outputs": [],
   "source": [
    "dire = 'test_mat'\n",
    "fn_vti = 'g.vti'\n",
    "fn_load = 'l.yaml'\n",
    "fn_material = 'm.yaml'\n",
    "if not os.path.exists(dire): os.mkdir(dire)"
   ]
  },
  {
   "cell_type": "markdown",
   "metadata": {},
   "source": [
    "# extreme simple geometry and load files"
   ]
  },
  {
   "cell_type": "code",
   "execution_count": 5,
   "metadata": {},
   "outputs": [],
   "source": [
    "# geometry file (3d periodic grid)\n",
    "cells = [2,2,1]\n",
    "grid = damask.GeomGrid(material=np.zeros(cells),size=cells)\n",
    "grid.save(f'{dire}/{fn_vti}')"
   ]
  },
  {
   "cell_type": "code",
   "execution_count": 6,
   "metadata": {},
   "outputs": [],
   "source": [
    "# load file - 2 load incrs of tensile test\n",
    "load_str = \"\"\"solver: {mechanical: spectral_basic}\n",
    "loadstep:\n",
    "- boundary_conditions:\n",
    "    mechanical:\n",
    "      dot_F:\n",
    "      - [0.001, 0, 0]\n",
    "      - [0, x, 0]\n",
    "      - [0, 0, x]\n",
    "      P:\n",
    "      - [x, x, x]\n",
    "      - [x, 0, x]\n",
    "      - [x, x, 0]\n",
    "  discretization: {t: 0.5, N: 2}\n",
    "  f_out: 1\"\"\"\n",
    "with open(f'{dire}/{fn_load}', 'w') as fw:\n",
    "    fw.write(load_str)"
   ]
  },
  {
   "cell_type": "markdown",
   "metadata": {},
   "source": [
    "# material file based on example materials, single phase for testing"
   ]
  },
  {
   "cell_type": "code",
   "execution_count": 7,
   "metadata": {},
   "outputs": [],
   "source": [
    "# PLEASE CHANGE ACCORDING TO YOUR PROBLEM !!!!\n",
    "phase_info_yml = 'examples/config/phase/Mg.yaml'\n",
    "phase_elast_yml = 'examples/config/phase/mechanical/elastic/Hooke_Mg.yaml'"
   ]
  },
  {
   "cell_type": "code",
   "execution_count": 8,
   "metadata": {},
   "outputs": [],
   "source": [
    "mat_str = \"\"\"homogenization:\n",
    "  SX:\n",
    "    N_constituents: 1\n",
    "    mechanical: {type: pass}\n",
    "material:\n",
    "- constituents:\n",
    "  - phase: test\n",
    "    v: 1.0\n",
    "    O: [1.0, 0.0, 0.0, 0.0]\n",
    "  homogenization: SX\n",
    "phase: \n",
    "  test\"\"\"\n",
    "\n",
    "mat = damask.YAML(mat_str)"
   ]
  },
  {
   "cell_type": "code",
   "execution_count": 9,
   "metadata": {},
   "outputs": [],
   "source": [
    "test_mat = damask.YAML.load(os.path.join(damask_root, phase_info_yml)) \n",
    "test_mat_el = damask.YAML.load(os.path.join(damask_root, phase_elast_yml))\n",
    "test_mat.update(mechanical={'elastic':test_mat_el})"
   ]
  },
  {
   "cell_type": "code",
   "execution_count": 10,
   "metadata": {},
   "outputs": [
    {
     "data": {
      "text/plain": [
       "1740.0"
      ]
     },
     "execution_count": 10,
     "metadata": {},
     "output_type": "execute_result"
    }
   ],
   "source": [
    "# del unused key and val\n",
    "test_mat.pop('rho')"
   ]
  },
  {
   "cell_type": "code",
   "execution_count": 11,
   "metadata": {},
   "outputs": [],
   "source": [
    "mat.update(phase={'test':test_mat})\n",
    "mat.save(f'{dire}/{fn_material}')"
   ]
  },
  {
   "cell_type": "markdown",
   "metadata": {},
   "source": [
    "# test run"
   ]
  },
  {
   "cell_type": "code",
   "execution_count": 12,
   "metadata": {},
   "outputs": [
    {
     "name": "stdout",
     "output_type": "stream",
     "text": [
      "running 'DAMASK_grid -w test_mat -g g.vti -l l.yaml  -m m.yaml' in './'\n",
      "CPU times: user 2.8 ms, sys: 1.65 ms, total: 4.46 ms\n",
      "Wall time: 393 ms\n"
     ]
    }
   ],
   "source": [
    "%%time\n",
    "os.environ['OMP_NUM_THREADS'] = '1'\n",
    "run_log, err_log = damask.util.run(f'DAMASK_grid -w {dire} -g {fn_vti} -l {fn_load}  -m {fn_material}')"
   ]
  },
  {
   "cell_type": "code",
   "execution_count": null,
   "metadata": {},
   "outputs": [],
   "source": []
  }
 ],
 "metadata": {
  "kernelspec": {
   "display_name": "Python 3 (ipykernel)",
   "language": "python",
   "name": "python3"
  },
  "language_info": {
   "codemirror_mode": {
    "name": "ipython",
    "version": 3
   },
   "file_extension": ".py",
   "mimetype": "text/x-python",
   "name": "python",
   "nbconvert_exporter": "python",
   "pygments_lexer": "ipython3",
   "version": "3.10.12"
  }
 },
 "nbformat": 4,
 "nbformat_minor": 4
}

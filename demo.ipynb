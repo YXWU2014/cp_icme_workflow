{
 "cells": [
  {
   "cell_type": "code",
   "execution_count": 3,
   "metadata": {},
   "outputs": [],
   "source": [
    "import damask\n",
    "import numpy as np \n",
    "import pandas as pd\n",
    "import seaborn as sns"
   ]
  },
  {
   "cell_type": "markdown",
   "metadata": {},
   "source": [
    "# 1. create input files (geometery, material, load)"
   ]
  },
  {
   "cell_type": "code",
   "execution_count": 6,
   "metadata": {},
   "outputs": [
    {
     "data": {
      "text/plain": [
       "cells:  16 × 16 × 16\n",
       "size:   1e-05 × 1e-05 × 1e-05 m³\n",
       "origin: 0.0   0.0   0.0 m\n",
       "# materials: 20"
      ]
     },
     "execution_count": 6,
     "metadata": {},
     "output_type": "execute_result"
    }
   ],
   "source": [
    "# geometry file (3d periodic grid)\n",
    "\n",
    "size = np.ones(3)*1e-5\n",
    "cells = [16,16,16]\n",
    "N_grains = 20\n",
    "seeds = damask.seeds.from_random(size,N_grains,cells)\n",
    "grid = damask.GeomGrid.from_Voronoi_tessellation(cells,size,seeds)\n",
    "grid.save(f'Polycystal_{N_grains}_{cells[0]}x{cells[1]}x{cells[2]}')\n",
    "grid"
   ]
  },
  {
   "cell_type": "code",
   "execution_count": 8,
   "metadata": {},
   "outputs": [],
   "source": [
    "# material file \n",
    "mat = damask.ConfigMaterial.load('../DAMASK_yi/examples/config/phase/mechanical/plastic/phenopowerlaw_Al.yaml')"
   ]
  },
  {
   "cell_type": "code",
   "execution_count": 9,
   "metadata": {},
   "outputs": [
    {
     "data": {
      "text/plain": [
       "type: phenopowerlaw\n",
       "references: ['W.F. Hosford et al., Acta Metallurgica 8(3):187-199, 1960, https://doi.org/10.1016/0001-6160(60)90127-9, fitted to Fig. 5 ([111] and [001])']\n",
       "output: [xi_sl, gamma_sl]\n",
       "N_sl: [12]\n",
       "dot_gamma_0_sl: [7.5e-05]\n",
       "n_sl: [20]\n",
       "a_sl: [5.4]\n",
       "xi_0_sl: [2690000.0]\n",
       "xi_inf_sl: [67500000.0]\n",
       "h_0_sl-sl: [281500000.0]\n",
       "h_sl-sl: [1, 1, 5.123, 0.574, 1.123, 1.123, 1]"
      ]
     },
     "execution_count": 9,
     "metadata": {},
     "output_type": "execute_result"
    }
   ],
   "source": [
    "mat."
   ]
  },
  {
   "cell_type": "code",
   "execution_count": 10,
   "metadata": {},
   "outputs": [
    {
     "data": {
      "text/plain": [
       "homogenization:\n",
       "  SX:\n",
       "    N_constituents: 1\n",
       "    mechanical: {type: pass}\n",
       "phase:\n",
       "  Aluminum:\n",
       "    lattice: cF\n",
       "    mechanical:\n",
       "      output: [F, P, F_e, F_p, L_p, O]\n",
       "      elastic: {type: Hooke, C_11: 106750000000.0, C_12: 60410000000.0, C_44: 28340000000.0}\n",
       "      plastic:\n",
       "        type: phenopowerlaw\n",
       "        N_sl: [12]\n",
       "        a_sl: [2.25]\n",
       "        atol_xi: 1.0\n",
       "        dot_gamma_0_sl: [0.001]\n",
       "        h_0_sl-sl: [75000000.0]\n",
       "        h_sl-sl: [1, 1, 1.4, 1.4, 1.4, 1.4, 1.4]\n",
       "        n_sl: [20]\n",
       "        output: [xi_sl]\n",
       "        xi_0_sl: [31000000.0]\n",
       "        xi_inf_sl: [63000000.0]\n",
       "material:\n",
       "- homogenization: SX\n",
       "  constituents:\n",
       "  - phase: Aluminum\n",
       "    v: 1.0\n",
       "    O: [1.0, 0.0, 0.0, 0.0]\n",
       "- homogenization: SX\n",
       "  constituents:\n",
       "  - phase: Aluminum\n",
       "    v: 1.0\n",
       "    O: [0.7936696712125002, -0.28765777461664166, -0.3436487135089419, 0.4113964260949434]\n",
       "- homogenization: SX\n",
       "  constituents:\n",
       "  - phase: Aluminum\n",
       "    v: 1.0\n",
       "    O: [0.3986143167493579, -0.7014883552495493, 0.2154871765709027, 0.5500781677772945]\n",
       "- homogenization: SX\n",
       "  constituents:\n",
       "  - phase: Aluminum\n",
       "    v: 1.0\n",
       "    O: [0.28645844315788244, -0.022571491243423537, -0.467933059311115, -0.8357456192708106]\n",
       "- homogenization: SX\n",
       "  constituents:\n",
       "  - phase: Aluminum\n",
       "    v: 1.0\n",
       "    O: [0.33012772942625784, -0.6781865350268957, 0.6494525351030648, 0.09638521992649676]\n",
       "- homogenization: SX\n",
       "  constituents:\n",
       "  - phase: Aluminum\n",
       "    v: 1.0\n",
       "    O: [0.43596817439583935, -0.5982537129781701, 0.046599032277502436, 0.6707106499919265]\n",
       "- homogenization: SX\n",
       "  constituents:\n",
       "  - phase: Aluminum\n",
       "    v: 1.0\n",
       "    O: [0.169734823419553, -0.699615227367322, -0.6059581215838098, -0.33844257746495854]\n",
       "- homogenization: SX\n",
       "  constituents:\n",
       "  - phase: Aluminum\n",
       "    v: 1.0\n",
       "    O: [0.9698864809294915, 0.1729052643205874, -0.15948307917616958, 0.06315956884687175]\n",
       "- homogenization: SX\n",
       "  constituents:\n",
       "  - phase: Aluminum\n",
       "    v: 1.0\n",
       "    O: [0.46205660912967883, 0.3105054068891252, -0.617849551030653, 0.555294529545738]\n",
       "- homogenization: SX\n",
       "  constituents:\n",
       "  - phase: Aluminum\n",
       "    v: 1.0\n",
       "    O: [0.4512443497461787, -0.7636045534540555, -0.04739348426715133, -0.45939142396805815]\n",
       "- homogenization: SX\n",
       "  constituents:\n",
       "  - phase: Aluminum\n",
       "    v: 1.0\n",
       "    O: [0.2161856212656443, -0.6581450184826598, -0.5498086209601588, 0.4667112513346289]\n",
       "- homogenization: SX\n",
       "  constituents:\n",
       "  - phase: Aluminum\n",
       "    v: 1.0\n",
       "    O: [0.8753220715350803, -0.4561599367657419, -0.13298279533852678, -0.08969369719975541]\n",
       "- homogenization: SX\n",
       "  constituents:\n",
       "  - phase: Aluminum\n",
       "    v: 1.0\n",
       "    O: [0.11908260752431069, 0.18266024809834172, -0.7144822594012615, -0.664807992845101]\n",
       "- homogenization: SX\n",
       "  constituents:\n",
       "  - phase: Aluminum\n",
       "    v: 1.0\n",
       "    O: [0.751104669484278, 0.5585633382623958, -0.34579336397009175, 0.06538900566860861]\n",
       "- homogenization: SX\n",
       "  constituents:\n",
       "  - phase: Aluminum\n",
       "    v: 1.0\n",
       "    O: [0.08740438971703973, 0.8991264096610437, -0.4156704205935976, 0.10559485570696363]\n",
       "- homogenization: SX\n",
       "  constituents:\n",
       "  - phase: Aluminum\n",
       "    v: 1.0\n",
       "    O: [0.5584325870096193, 0.6016408353068798, -0.14280340445801173, 0.5529814994483859]\n",
       "- homogenization: SX\n",
       "  constituents:\n",
       "  - phase: Aluminum\n",
       "    v: 1.0\n",
       "    O: [0.4052725440888093, 0.25253073423599154, 0.5693263597910454, -0.669215876471182]\n",
       "- homogenization: SX\n",
       "  constituents:\n",
       "  - phase: Aluminum\n",
       "    v: 1.0\n",
       "    O: [0.7570164606888676, 0.15265448024694664, -0.5998021466848317, 0.20942796551297105]\n",
       "- homogenization: SX\n",
       "  constituents:\n",
       "  - phase: Aluminum\n",
       "    v: 1.0\n",
       "    O: [0.6987659297138081, -0.132172211261028, -0.19693254724422338, 0.6748883269678543]\n",
       "- homogenization: SX\n",
       "  constituents:\n",
       "  - phase: Aluminum\n",
       "    v: 1.0\n",
       "    O: [0.7729330445886478, 0.21682179052722322, -0.5207379472917645, 0.2905078484066341]"
      ]
     },
     "execution_count": 10,
     "metadata": {},
     "output_type": "execute_result"
    }
   ],
   "source": [
    "mat = damask.ConfigMaterial.load('../DAMASK_yi/examples/grid/material.yaml')\n",
    "mat"
   ]
  },
  {
   "cell_type": "code",
   "execution_count": null,
   "metadata": {},
   "outputs": [],
   "source": [
    "rnd = damask.Rotation.from_random(7)\n",
    "fbr = damask.Rotation.from_fiber_component(crystal=[1,0],sample=[1,0],\n",
    "                                           sigma=5.0,shape=5,degrees=True)\n",
    "sph = damask.Rotation.from_spherical_component(center=damask.Rotation(),\n",
    "                                               sigma=7.5,shape=3,degrees=True)\n",
    "config = damask.ConfigMaterial()\\\n",
    "               .material_add(O=rnd,phase='phase_A',homogenization='SX')\\\n",
    "               .material_add(O=fbr,phase='phase_A',homogenization='SX')\\\n",
    "               .material_add(O=sph,phase='phase_B',homogenization='SX')\n",
    "print(f'configuration is{\" \" if config.is_valid else \" not \"}valid\\n')\n",
    "\n",
    "config.save()\n",
    "config"
   ]
  },
  {
   "cell_type": "code",
   "execution_count": null,
   "metadata": {},
   "outputs": [],
   "source": [
    "# load file\n",
    "def inversion(l,fill=0):\n",
    "    return [inversion(i,fill) if isinstance(i,list) else\\\n",
    "            fill if i == 'x' else 'x' for i in l]\n",
    "load_case = damask.Config(solver={'mechanical':'spectral_basic'},\n",
    "                          loadstep=[])\n",
    "F = [[1.05, 0 , 0 ],\n",
    "     [   0,'x', 0 ],\n",
    "     [   0, 0 ,'x']]\n",
    "\n",
    "loadstep = {'boundary_conditions':{'mechanical':{'F':F,\n",
    "                                                 'P':inversion(F)}},\n",
    "                                   'discretization':{'t':10.,'N':40},'f_out':4}\n",
    "load_case['loadstep'].append(loadstep)\n",
    "dot_P = [[ 0 ,'x','x'],\n",
    "         ['x','x','x'],\n",
    "         ['x','x','x']]\n",
    "\n",
    "loadstep = {'boundary_conditions':{'mechanical':{'dot_P':dot_P,\n",
    "                                                 'dot_F':inversion(dot_P)}},\n",
    "                                   'discretization':{'t':10.,'N':20}}\n",
    "load_case['loadstep'].append(loadstep)\n",
    "P = [[ 0 ,'x','x'],\n",
    "     ['x', 0 ,'x'],\n",
    "     ['x','x', 0 ]]\n",
    "\n",
    "loadstep = {'boundary_conditions':{'mechanical':{'P':P,\n",
    "                                                 'dot_F':inversion(P)}},\n",
    "                                   'discretization':{'t':10.,'N':20}}\n",
    "load_case['loadstep'].append(loadstep)\n",
    "load_case.save('tension-hold-unload.yaml')\n",
    "load_case"
   ]
  },
  {
   "cell_type": "markdown",
   "metadata": {},
   "source": [
    "# 2. run simulation with DAMASK-grid solver"
   ]
  },
  {
   "cell_type": "code",
   "execution_count": 11,
   "metadata": {},
   "outputs": [
    {
     "name": "stdout",
     "output_type": "stream",
     "text": [
      "\u001b[0;31mSignature:\u001b[0m\n",
      "\u001b[0mdamask\u001b[0m\u001b[0;34m.\u001b[0m\u001b[0mutil\u001b[0m\u001b[0;34m.\u001b[0m\u001b[0mrun\u001b[0m\u001b[0;34m(\u001b[0m\u001b[0;34m\u001b[0m\n",
      "\u001b[0;34m\u001b[0m    \u001b[0mcmd\u001b[0m\u001b[0;34m:\u001b[0m \u001b[0mstr\u001b[0m\u001b[0;34m,\u001b[0m\u001b[0;34m\u001b[0m\n",
      "\u001b[0;34m\u001b[0m    \u001b[0mwd\u001b[0m\u001b[0;34m:\u001b[0m \u001b[0mstr\u001b[0m \u001b[0;34m=\u001b[0m \u001b[0;34m'./'\u001b[0m\u001b[0;34m,\u001b[0m\u001b[0;34m\u001b[0m\n",
      "\u001b[0;34m\u001b[0m    \u001b[0menv\u001b[0m\u001b[0;34m:\u001b[0m \u001b[0mOptional\u001b[0m\u001b[0;34m[\u001b[0m\u001b[0mDict\u001b[0m\u001b[0;34m[\u001b[0m\u001b[0mstr\u001b[0m\u001b[0;34m,\u001b[0m \u001b[0mstr\u001b[0m\u001b[0;34m]\u001b[0m\u001b[0;34m]\u001b[0m \u001b[0;34m=\u001b[0m \u001b[0;32mNone\u001b[0m\u001b[0;34m,\u001b[0m\u001b[0;34m\u001b[0m\n",
      "\u001b[0;34m\u001b[0m    \u001b[0mtimeout\u001b[0m\u001b[0;34m:\u001b[0m \u001b[0mOptional\u001b[0m\u001b[0;34m[\u001b[0m\u001b[0mint\u001b[0m\u001b[0;34m]\u001b[0m \u001b[0;34m=\u001b[0m \u001b[0;32mNone\u001b[0m\u001b[0;34m,\u001b[0m\u001b[0;34m\u001b[0m\n",
      "\u001b[0;34m\u001b[0m\u001b[0;34m)\u001b[0m \u001b[0;34m->\u001b[0m \u001b[0mTuple\u001b[0m\u001b[0;34m[\u001b[0m\u001b[0mstr\u001b[0m\u001b[0;34m,\u001b[0m \u001b[0mstr\u001b[0m\u001b[0;34m]\u001b[0m\u001b[0;34m\u001b[0m\u001b[0;34m\u001b[0m\u001b[0m\n",
      "\u001b[0;31mDocstring:\u001b[0m\n",
      "Run a command.\n",
      "\n",
      "Parameters\n",
      "----------\n",
      "cmd : str\n",
      "    Command to be executed.\n",
      "wd : str, optional\n",
      "    Working directory of process. Defaults to './'.\n",
      "env : dict, optional\n",
      "    Environment for execution.\n",
      "timeout : integer, optional\n",
      "    Timeout in seconds.\n",
      "\n",
      "Returns\n",
      "-------\n",
      "stdout, stderr : (str, str)\n",
      "    Output of the executed command.\n",
      "\u001b[0;31mFile:\u001b[0m      ~/workspace/DAMASK_yi/python/damask/util.py\n",
      "\u001b[0;31mType:\u001b[0m      function"
     ]
    }
   ],
   "source": [
    "damask.util.run?"
   ]
  },
  {
   "cell_type": "markdown",
   "metadata": {},
   "source": [
    "# 3. process result and visualize"
   ]
  },
  {
   "cell_type": "code",
   "execution_count": null,
   "metadata": {},
   "outputs": [],
   "source": [
    "result_file = 'add_field_data/20grains16x16x16_tensionX.hdf5'\n",
    "result = damask.Result(result_file)\n",
    "result.add_stress_Cauchy()\n",
    "result.add_strain()\n",
    "\n",
    "# list data (undeformed configuration)\n",
    "result.add_equivalent_Mises('sigma')\n",
    "result.add_equivalent_Mises('epsilon_V^0.0(F)')\n",
    "\n",
    "# list data (undeformed configuration)\n",
    "result.view(increments=0)"
   ]
  },
  {
   "cell_type": "code",
   "execution_count": null,
   "metadata": {},
   "outputs": [],
   "source": [
    "result.export_simulation_setup()\n",
    "grid_file = '20grains16x16x16.vti'\n",
    "grid   = damask.Grid.load(grid_file)\n",
    "# loop over all increments and store P(1,1) per grain and avg(F(1,1))\n",
    "data = {g:pd.DataFrame() for g in grains}\n",
    "for inc in result.get(['F','P']).values():\n",
    "    P = inc['P']\n",
    "    F = inc['F']\n",
    "    for g in grains:\n",
    "        points = grid.material.flatten(order='F')==g\n",
    "        P_11 = P[points,0,0].flatten()\n",
    "        F_11 = np.broadcast_to(np.average(F[:,0,0]),P_11.shape)\n",
    "        x = pd.DataFrame({'F_11':F_11,'P_11':P_11})\n",
    "        data[g] = pd.concat((data[g],x),ignore_index=True)"
   ]
  },
  {
   "cell_type": "code",
   "execution_count": null,
   "metadata": {},
   "outputs": [],
   "source": [
    "for g in grains:\n",
    "   plot = sns.lineplot(y='P_11',x='F_11',data=data[g])\n",
    "\n",
    "fig = plot.get_figure()"
   ]
  },
  {
   "cell_type": "code",
   "execution_count": null,
   "metadata": {},
   "outputs": [],
   "source": [
    "# export and visualize with paraview\n",
    "result_select = result.view_in_times()\n",
    "result_select.export()"
   ]
  }
 ],
 "metadata": {
  "kernelspec": {
   "display_name": "Python 3",
   "language": "python",
   "name": "python3"
  },
  "language_info": {
   "codemirror_mode": {
    "name": "ipython",
    "version": 3
   },
   "file_extension": ".py",
   "mimetype": "text/x-python",
   "name": "python",
   "nbconvert_exporter": "python",
   "pygments_lexer": "ipython3",
   "version": "3.10.12"
  }
 },
 "nbformat": 4,
 "nbformat_minor": 2
}
